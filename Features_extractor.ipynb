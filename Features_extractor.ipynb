{
 "cells": [
  {
   "cell_type": "code",
   "execution_count": 124,
   "metadata": {},
   "outputs": [],
   "source": [
    "import os\n",
    "import glob\n",
    "import numpy as np\n",
    "import itertools\n",
    "import random\n",
    "import multiprocessing\n",
    "from multiprocessing.dummy import Pool as ThreadPool\n",
    "\n",
    "from skimage import feature\n",
    "from PIL import Image, ImageOps\n",
    "import pywt\n",
    "import matplotlib.pyplot as plt\n",
    "\n",
    "from scipy import ndimage\n",
    "\n",
    "from sklearn.model_selection import train_test_split\n",
    "from sklearn.metrics import confusion_matrix\n",
    "from sklearn import linear_model\n",
    "from sklearn.neural_network import MLPClassifier\n",
    "\n",
    "from sklearn.preprocessing import MinMaxScaler, StandardScaler\n",
    "\n",
    "from scipy.stats import moment\n",
    "\n",
    "from skimage.restoration import denoise_wavelet\n",
    "%matplotlib inline"
   ]
  },
  {
   "cell_type": "code",
   "execution_count": 125,
   "metadata": {},
   "outputs": [],
   "source": [
    "path2train = 'data/train/'\n",
    "path2test = 'data/test'"
   ]
  },
  {
   "cell_type": "code",
   "execution_count": 126,
   "metadata": {},
   "outputs": [],
   "source": [
    "img_width = img_height=256"
   ]
  },
  {
   "cell_type": "code",
   "execution_count": 127,
   "metadata": {},
   "outputs": [
    {
     "name": "stdout",
     "output_type": "stream",
     "text": [
      "Number of CPUs: 7\n"
     ]
    }
   ],
   "source": [
    "cpu_count = 2*multiprocessing.cpu_count()-1\n",
    "print('Number of CPUs: {}'.format(cpu_count))"
   ]
  },
  {
   "cell_type": "code",
   "execution_count": 128,
   "metadata": {},
   "outputs": [],
   "source": [
    "def preProcessing(img, row=0, col=0, center=True):\n",
    "    \n",
    "    '''img = resizeImage(img) # cant resize the image!!\n",
    "    img = RGB2Gray(img) #cant transform to rgb!'''\n",
    "    \n",
    "    if center:\n",
    "        img = crop_image_center(img)\n",
    "    else:\n",
    "        img = crop_image_corners(img, row=row, col=col)\n",
    "\n",
    "    img = noise_wavelet(img)\n",
    "    #img = noise_median(img)\n",
    "    #img = localBinaryPatterns(img)\n",
    "    #img = addDelta(img)\n",
    "    #img = vectorizeImage(img, nb_channels=3)\n",
    "    return img"
   ]
  },
  {
   "cell_type": "code",
   "execution_count": 129,
   "metadata": {},
   "outputs": [],
   "source": [
    "def crop_image_corners(img, row, col, img_width=128, img_height=128):\n",
    "\n",
    "    width, height = img.size   # Get dimensions\n",
    "\n",
    "    x = row*(width-img_width)\n",
    "    y = col*(height-img_height)\n",
    "    crop = img.crop((x, y, x + w, y + h))\n",
    "    \n",
    "    return crop"
   ]
  },
  {
   "cell_type": "code",
   "execution_count": 130,
   "metadata": {},
   "outputs": [],
   "source": [
    "def crop_image_center(img, img_width=128, img_height=128):\n",
    "    width, height = img.size   # Get dimensions\n",
    "\n",
    "    left = (width - img_width)/2\n",
    "    top = (height - img_height)/2\n",
    "    right = (width + img_width)/2\n",
    "    bottom = (height + img_height)/2\n",
    "\n",
    "    crop = img.crop((left, top, right, bottom))\n",
    "    return crop"
   ]
  },
  {
   "cell_type": "code",
   "execution_count": 131,
   "metadata": {},
   "outputs": [],
   "source": [
    "def RandomCropImage(img, img_width=128, img_height=128):\n",
    "    \n",
    "    width, height = img.size   # Get dimensions\n",
    "\n",
    "    idx_width = random.randint(0, width - img_width)\n",
    "    idx_height = random.randint(0, height - img_height)\n",
    "\n",
    "    return img.crop((idx_width, idx_height, idx_width+img_width, idx_height + img_height))"
   ]
  },
  {
   "cell_type": "code",
   "execution_count": 132,
   "metadata": {},
   "outputs": [],
   "source": [
    "def vectorizeImage(img, img_width=128, img_height=128, nb_channels = 1):\n",
    "    return img.reshape(-1,img_width * img_height * nb_channels)"
   ]
  },
  {
   "cell_type": "code",
   "execution_count": 133,
   "metadata": {},
   "outputs": [],
   "source": [
    "def noise_median(img, factor=2):\n",
    "    return img - ndimage.median_filter(img, factor)"
   ]
  },
  {
   "cell_type": "code",
   "execution_count": 134,
   "metadata": {},
   "outputs": [],
   "source": [
    "def resizeImage(img, img_width=128, img_height=128):\n",
    "    img = img.resize((img_width, img_height))\n",
    "    return np.array(img)"
   ]
  },
  {
   "cell_type": "code",
   "execution_count": 135,
   "metadata": {},
   "outputs": [],
   "source": [
    "def localBinaryPatterns(img, numPoints=24, radius=2):\n",
    "    \n",
    "    img_lbp = np.zeros(np.array(img).shape)\n",
    "    for i in range(np.array(img).shape[2]):\n",
    "        img_lbp[:,:,i] = feature.local_binary_pattern(img.getchannel(i), numPoints,\n",
    "                    radius, method=\"uniform\")\n",
    "    return img_lbp"
   ]
  },
  {
   "cell_type": "code",
   "execution_count": 136,
   "metadata": {},
   "outputs": [],
   "source": [
    "def noise_wavelet(img, n_moments=9):\n",
    "    wav_noise = img - denoise_wavelet(img=img, multichannel=True)\n",
    "    \n",
    "    res = []\n",
    "    for i in range(0, wav_noise.shape[2]):\n",
    "        coeffs = pywt.dwt2(wav_noise[:,:,i], wavelet='haar')\n",
    "        cA, (cH, cV, cD) = coeffs\n",
    "\n",
    "        for j in range(0, n_moments):\n",
    "            res.append(moment(cH.ravel(), moment=j))\n",
    "            res.append(moment(cV.ravel(), moment=j))\n",
    "            res.append(moment(cD.ravel(), moment=j))\n",
    "    return res"
   ]
  },
  {
   "cell_type": "code",
   "execution_count": 137,
   "metadata": {},
   "outputs": [],
   "source": [
    "def RGB2Gray(img):\n",
    "    img = np.array(img)\n",
    "    return np.dot(img[...,:3], [0.299, 0.587, 0.114]).astype(int)"
   ]
  },
  {
   "cell_type": "code",
   "execution_count": 138,
   "metadata": {},
   "outputs": [],
   "source": [
    "def extractImage(path):\n",
    "\n",
    "    with Image.open(path) as img:\n",
    "        img = preProcessing(img)\n",
    "    target = path.split('/')[-2]\n",
    "    return img, target"
   ]
  },
  {
   "cell_type": "code",
   "execution_count": 139,
   "metadata": {},
   "outputs": [],
   "source": [
    "def extractImagesParallel(path, threads=2):\n",
    "    pool = ThreadPool(threads)\n",
    "    #imgs, targets = zip(*pool.map(extractImage, path))\n",
    "    result = pool.map(extractImage, path)\n",
    "    pool.close()\n",
    "    pool.join()\n",
    "    return result"
   ]
  },
  {
   "cell_type": "code",
   "execution_count": 140,
   "metadata": {},
   "outputs": [],
   "source": [
    "def get_data(path, format_file = '*.jpg', is_train = True):\n",
    "    results = []\n",
    "\n",
    "    for subdir, dirs, files in os.walk(path):\n",
    "        if subdir.split('/')[-1] != '':\n",
    "\n",
    "            print('Reading files from dir: {}'.format(subdir))\n",
    "\n",
    "            path_folder = os.path.join(subdir, format_file)\n",
    "            filesPath = glob.glob(path_folder) \n",
    "\n",
    "            res  = extractImagesParallel(filesPath, cpu_count)\n",
    "            results.append(res)\n",
    "    \n",
    "    flattened_list = [y for x in results for y in x]\n",
    "    X, y = map(list, zip(*flattened_list))\n",
    "\n",
    "    X = np.array(X)\n",
    "    y = np.array(y)\n",
    "    \n",
    "    if np.array(X).shape[1] == 1:\n",
    "        X = np.squeeze(X, axis=1)\n",
    "    \n",
    "    return X, y"
   ]
  },
  {
   "cell_type": "code",
   "execution_count": 141,
   "metadata": {},
   "outputs": [
    {
     "name": "stdout",
     "output_type": "stream",
     "text": [
      "Reading training data...\n",
      "\n",
      "Reading files from dir: data/train/iPhone-4s\n",
      "Reading files from dir: data/train/Motorola-Droid-Maxx\n",
      "Reading files from dir: data/train/HTC-1-M7\n",
      "Reading files from dir: data/train/Samsung-Galaxy-S4\n",
      "Reading files from dir: data/train/Motorola-X\n",
      "Reading files from dir: data/train/Motorola-Nexus-6\n",
      "Reading files from dir: data/train/LG-Nexus-5x\n",
      "Reading files from dir: data/train/Samsung-Galaxy-Note3\n",
      "Reading files from dir: data/train/iPhone-6\n",
      "Reading files from dir: data/train/Sony-NEX-7\n",
      "Reading testing data...\n",
      "Reading files from dir: data/test\n"
     ]
    }
   ],
   "source": [
    "print('Reading training data...\\n')\n",
    "X, y = get_data(path2train)\n",
    "print('Reading testing data...')\n",
    "X_test, _ = get_data(path2test, format_file='*.tif', is_train=False)"
   ]
  },
  {
   "cell_type": "code",
   "execution_count": 142,
   "metadata": {},
   "outputs": [],
   "source": [
    "test_size = 0.2\n",
    "X_train, X_valid, y_train, y_valid = train_test_split(X, y, test_size=test_size, random_state=42)"
   ]
  },
  {
   "cell_type": "code",
   "execution_count": 143,
   "metadata": {},
   "outputs": [
    {
     "name": "stdout",
     "output_type": "stream",
     "text": [
      "Shape of the training data X: (2200, 81), y: (2200,)\n",
      "Shape of the valid data X: (550, 81), y: (550,)\n"
     ]
    }
   ],
   "source": [
    "print('Shape of the training data X: {}, y: {}'.format(X_train.shape, y_train.shape))\n",
    "print('Shape of the valid data X: {}, y: {}'.format(X_valid.shape, y_valid.shape))"
   ]
  },
  {
   "cell_type": "markdown",
   "metadata": {},
   "source": [
    "### Normalization"
   ]
  },
  {
   "cell_type": "code",
   "execution_count": 144,
   "metadata": {},
   "outputs": [],
   "source": [
    "normalization_type = 'zScore'"
   ]
  },
  {
   "cell_type": "code",
   "execution_count": 145,
   "metadata": {},
   "outputs": [
    {
     "name": "stdout",
     "output_type": "stream",
     "text": [
      "Normalization type: zScore\n"
     ]
    }
   ],
   "source": [
    "print('Normalization type: {}'.format(normalization_type))\n",
    "\n",
    "if normalization_type == 'minMax':\n",
    "    scaler = MinMaxScaler()\n",
    "    \n",
    "elif normalization_type == 'zScore':        \n",
    "    scaler =  StandardScaler()\n",
    "    \n",
    "X_train = scaler.fit_transform(X_train)\n",
    "X_valid = scaler.transform(X_valid)"
   ]
  },
  {
   "cell_type": "markdown",
   "metadata": {},
   "source": [
    "# Model"
   ]
  },
  {
   "cell_type": "markdown",
   "metadata": {},
   "source": [
    "### Logistic Regression"
   ]
  },
  {
   "cell_type": "code",
   "execution_count": 146,
   "metadata": {},
   "outputs": [
    {
     "name": "stdout",
     "output_type": "stream",
     "text": [
      "Accuracy of logistic regression classifier on train set: 0.31\n",
      "Accuracy of logistic regression classifier on valid set: 0.25\n"
     ]
    }
   ],
   "source": [
    "lr_model = linear_model.LogisticRegression(max_iter=10)\n",
    "lr_model.fit(X_train, y_train)\n",
    "y_pred_lr = lr_model.predict(X_valid)\n",
    "print('Accuracy of logistic regression classifier on train set: {:.2f}'.format(lr_model.score(X_train, y_train)))\n",
    "print('Accuracy of logistic regression classifier on valid set: {:.2f}'.format(lr_model.score(X_valid, y_valid)))"
   ]
  },
  {
   "cell_type": "markdown",
   "metadata": {},
   "source": [
    "### Neural Network"
   ]
  },
  {
   "cell_type": "code",
   "execution_count": 154,
   "metadata": {},
   "outputs": [
    {
     "name": "stdout",
     "output_type": "stream",
     "text": [
      "Iteration 1, loss = 2.28745602\n",
      "Iteration 2, loss = 2.17482566\n",
      "Iteration 3, loss = 2.13728519\n",
      "Iteration 4, loss = 2.08666189\n",
      "Iteration 5, loss = 2.05299900\n",
      "Iteration 6, loss = 2.03697984\n",
      "Iteration 7, loss = 2.01578423\n",
      "Iteration 8, loss = 1.99919111\n",
      "Iteration 9, loss = 1.98244636\n",
      "Iteration 10, loss = 1.96282601\n",
      "Iteration 11, loss = 1.95041507\n",
      "Iteration 12, loss = 1.94346346\n",
      "Iteration 13, loss = 1.93274781\n",
      "Iteration 14, loss = 1.92519017\n",
      "Iteration 15, loss = 1.91252243\n",
      "Iteration 16, loss = 1.91347680\n",
      "Iteration 17, loss = 1.90148761\n",
      "Iteration 18, loss = 1.87813787\n",
      "Iteration 19, loss = 1.86949406\n",
      "Iteration 20, loss = 1.86770711\n",
      "Iteration 21, loss = 1.85989584\n",
      "Iteration 22, loss = 1.86652007\n",
      "Iteration 23, loss = 1.86026197\n",
      "Iteration 24, loss = 1.85749067\n",
      "Iteration 25, loss = 1.90484222\n",
      "Iteration 26, loss = 1.85449459\n",
      "Iteration 27, loss = 1.82310234\n",
      "Iteration 28, loss = 1.81176638\n",
      "Iteration 29, loss = 1.79843159\n",
      "Iteration 30, loss = 1.79340211\n",
      "Iteration 31, loss = 1.78284472\n",
      "Iteration 32, loss = 1.78232794\n",
      "Iteration 33, loss = 1.77220031\n",
      "Iteration 34, loss = 1.77910707\n",
      "Iteration 35, loss = 1.76226365\n",
      "Iteration 36, loss = 1.75848499\n",
      "Iteration 37, loss = 1.75269011\n",
      "Iteration 38, loss = 1.73580073\n",
      "Iteration 39, loss = 1.73649738\n",
      "Iteration 40, loss = 1.72699627\n",
      "Iteration 41, loss = 1.73715567\n",
      "Iteration 42, loss = 1.72449007\n",
      "Iteration 43, loss = 1.71770597\n",
      "Iteration 44, loss = 1.71838458\n",
      "Iteration 45, loss = 1.72131604\n",
      "Iteration 46, loss = 1.70222935\n",
      "Iteration 47, loss = 1.69354868\n",
      "Iteration 48, loss = 1.69807480\n",
      "Iteration 49, loss = 1.68759078\n",
      "Iteration 50, loss = 1.68173578\n",
      "Iteration 51, loss = 1.67620464\n",
      "Iteration 52, loss = 1.67053135\n",
      "Iteration 53, loss = 1.67190621\n",
      "Iteration 54, loss = 1.66698988\n",
      "Iteration 55, loss = 1.66122820\n",
      "Iteration 56, loss = 1.65005258\n",
      "Iteration 57, loss = 1.65151847\n",
      "Iteration 58, loss = 1.65298565\n",
      "Iteration 59, loss = 1.64108670\n",
      "Iteration 60, loss = 1.64657216\n",
      "Iteration 61, loss = 1.66290207\n",
      "Iteration 62, loss = 1.65514340\n",
      "Training loss did not improve more than tol=0.000100 for two consecutive epochs. Stopping.\n",
      "Accuracy of logistic regression classifier on train set: 0.43\n",
      "Accuracy of logistic regression classifier on valid set: 0.29\n"
     ]
    }
   ],
   "source": [
    "mlp_model = MLPClassifier(hidden_layer_sizes=(256,), max_iter=100, alpha=1e-4,\n",
    "                    solver='sgd', verbose=1, tol=1e-4, random_state=1,\n",
    "                    learning_rate_init=.1)\n",
    "mlp_model.fit(X_train, y_train)\n",
    "y_pred_mlp = mlp_model.predict(X_valid)\n",
    "print('Accuracy of logistic regression classifier on train set: {:.2f}'.format(mlp_model.score(X_train, y_train)))\n",
    "print('Accuracy of logistic regression classifier on valid set: {:.2f}'.format(mlp_model.score(X_valid, y_valid)))"
   ]
  },
  {
   "cell_type": "code",
   "execution_count": 155,
   "metadata": {},
   "outputs": [],
   "source": [
    "cm_lr = confusion_matrix(y_valid, y_pred_lr)\n",
    "cm_mlp = confusion_matrix(y_valid, y_pred_mlp)\n",
    "\n",
    "#http://scikit-learn.org/stable/auto_examples/neural_networks/plot_mnist_filters.html"
   ]
  },
  {
   "cell_type": "code",
   "execution_count": 156,
   "metadata": {},
   "outputs": [],
   "source": [
    "def plot_cm(cm, title='Confusion matrix',\n",
    "                          cmap=None,\n",
    "                          normalize=True):\n",
    "    \n",
    "    if normalize:\n",
    "        cm = cm.astype('float') / cm.sum(axis=1)[:, np.newaxis]\n",
    "        print(\"Normalized confusion matrix\")\n",
    "    else:\n",
    "        print('Confusion matrix, without normalization')\n",
    "\n",
    "    accuracy = np.trace(cm) / float(np.sum(cm))\n",
    "    misclass = 1 - accuracy\n",
    "\n",
    "    plt.imshow(cm, interpolation='nearest', cmap=cmap)\n",
    "    plt.title(title)\n",
    "    plt.colorbar()\n",
    "    plt.ylabel('True label')\n",
    "    plt.xlabel('Predicted label\\naccuracy={:0.4f}; misclass={:0.4f}'.format(accuracy, misclass))\n",
    "    plt.title(title)"
   ]
  },
  {
   "cell_type": "code",
   "execution_count": 159,
   "metadata": {},
   "outputs": [
    {
     "name": "stdout",
     "output_type": "stream",
     "text": [
      "Normalized confusion matrix\n",
      "Normalized confusion matrix\n"
     ]
    },
    {
     "data": {
      "image/png": "[encoded data removed]",
      "text/plain": [
       "<matplotlib.figure.Figure at 0x7f7212542d68>"
      ]
     },
     "metadata": {},
     "output_type": "display_data"
    }
   ],
   "source": [
    "plt.figure(figsize=(20, 5))\n",
    "plt.subplot(1,2,1)\n",
    "plot_cm(cm_lr)\n",
    "\n",
    "plt.subplot(1,2,2)\n",
    "plot_cm(cm_mlp)"
   ]
  },
  {
   "cell_type": "code",
   "execution_count": null,
   "metadata": {},
   "outputs": [],
   "source": []
  },
  {
   "cell_type": "code",
   "execution_count": null,
   "metadata": {},
   "outputs": [],
   "source": []
  },
  {
   "cell_type": "code",
   "execution_count": 145,
   "metadata": {},
   "outputs": [],
   "source": [
    "def showCamaraTransformations():\n",
    "\n",
    "    plt.figure(figsize=(20,5))\n",
    "    path = 'data/train/iPhone-4s/(iP4s)9.jpg'\n",
    "    with Image.open(path) as img:\n",
    "        plt.subplot(1,3,1)\n",
    "        img = RGB2Gray(img)\n",
    "        img_wav = denoise_wavelet(img)\n",
    "        plt.imshow(np.round(img-img_wav), cmap='gray')\n",
    "        plt.axis('off')\n",
    "        \n",
    "        plt.subplot(1,3,2)\n",
    "        img_mean = median_filter(img, factor=4)\n",
    "        plt.imshow(np.round(img-img_mean), cmap='gray')\n",
    "        plt.axis('off')\n",
    "        \n",
    "        plt.subplot(1,3,3)\n",
    "        img_lbp = localBinaryPatterns(img)\n",
    "        plt.imshow(img_lbp, cmap='gray')\n",
    "        plt.axis('off')\n",
    "        \n",
    "#showCamaraTransformations()"
   ]
  },
  {
   "cell_type": "code",
   "execution_count": 146,
   "metadata": {},
   "outputs": [
    {
     "data": {
      "text/plain": [
       "\"\\npath = 'data/train/iPhone-4s/(iP4s)9.jpg'\\nwith Image.open(path) as img:\\n    coeffs = pywt.dwt2(img, 'haar')\\n    cA, (cH, cV, cD) = coeffs\\nprint('cA {}'.format(cA.shape) )\\nprint('cH: {}'.format(cH.shape) )\\nprint('cV: {}'.format(cV.shape) )\\nprint('cD: {}'.format(cD.shape) )\\n\""
      ]
     },
     "execution_count": 146,
     "metadata": {},
     "output_type": "execute_result"
    }
   ],
   "source": [
    "'''\n",
    "path = 'data/train/iPhone-4s/(iP4s)9.jpg'\n",
    "with Image.open(path) as img:\n",
    "    coeffs = pywt.dwt2(img, 'haar')\n",
    "    cA, (cH, cV, cD) = coeffs\n",
    "print('cA {}'.format(cA.shape) )\n",
    "print('cH: {}'.format(cH.shape) )\n",
    "print('cV: {}'.format(cV.shape) )\n",
    "print('cD: {}'.format(cD.shape) )\n",
    "'''"
   ]
  },
  {
   "cell_type": "code",
   "execution_count": null,
   "metadata": {},
   "outputs": [],
   "source": []
  },
  {
   "cell_type": "code",
   "execution_count": 24,
   "metadata": {},
   "outputs": [
    {
     "name": "stdout",
     "output_type": "stream",
     "text": [
      "(2750, 16384)\n"
     ]
    },
    {
     "name": "stderr",
     "output_type": "stream",
     "text": [
      "/home/renatolr/anaconda3/lib/python3.6/site-packages/skimage/util/dtype.py:122: UserWarning: Possible precision loss when converting from int64 to float64\n",
      "  .format(dtypeobj_in, dtypeobj_out))\n"
     ]
    },
    {
     "ename": "ValueError",
     "evalue": "the input array must be have a shape == (.., ..,[ ..,] 3)), got (2750, 16384)",
     "output_type": "error",
     "traceback": [
      "\u001b[0;31m---------------------------------------------------------------------------\u001b[0m",
      "\u001b[0;31mValueError\u001b[0m                                Traceback (most recent call last)",
      "\u001b[0;32m<ipython-input-24-f1ccf0d03913>\u001b[0m in \u001b[0;36m<module>\u001b[0;34m()\u001b[0m\n\u001b[1;32m      1\u001b[0m \u001b[0mprint\u001b[0m\u001b[0;34m(\u001b[0m\u001b[0mnp\u001b[0m\u001b[0;34m.\u001b[0m\u001b[0marray\u001b[0m\u001b[0;34m(\u001b[0m\u001b[0mX\u001b[0m\u001b[0;34m)\u001b[0m\u001b[0;34m.\u001b[0m\u001b[0mshape\u001b[0m\u001b[0;34m)\u001b[0m\u001b[0;34m\u001b[0m\u001b[0m\n\u001b[0;32m----> 2\u001b[0;31m \u001b[0mimg_wav_filtered\u001b[0m \u001b[0;34m=\u001b[0m \u001b[0mdenoise_wavelet\u001b[0m\u001b[0;34m(\u001b[0m\u001b[0mX\u001b[0m\u001b[0;34m,\u001b[0m \u001b[0mmultichannel\u001b[0m\u001b[0;34m=\u001b[0m\u001b[0;32mTrue\u001b[0m\u001b[0;34m,\u001b[0m \u001b[0mconvert2ycbcr\u001b[0m\u001b[0;34m=\u001b[0m\u001b[0;32mTrue\u001b[0m\u001b[0;34m,\u001b[0m  \u001b[0mmode\u001b[0m\u001b[0;34m=\u001b[0m\u001b[0;34m'soft'\u001b[0m\u001b[0;34m)\u001b[0m\u001b[0;34m\u001b[0m\u001b[0m\n\u001b[0m",
      "\u001b[0;32m~/anaconda3/lib/python3.6/site-packages/skimage/restoration/_denoise.py\u001b[0m in \u001b[0;36mdenoise_wavelet\u001b[0;34m(img, sigma, wavelet, mode, wavelet_levels, multichannel, convert2ycbcr)\u001b[0m\n\u001b[1;32m    563\u001b[0m     \u001b[0;32mif\u001b[0m \u001b[0mmultichannel\u001b[0m\u001b[0;34m:\u001b[0m\u001b[0;34m\u001b[0m\u001b[0m\n\u001b[1;32m    564\u001b[0m         \u001b[0;32mif\u001b[0m \u001b[0mconvert2ycbcr\u001b[0m\u001b[0;34m:\u001b[0m\u001b[0;34m\u001b[0m\u001b[0m\n\u001b[0;32m--> 565\u001b[0;31m             \u001b[0mout\u001b[0m \u001b[0;34m=\u001b[0m \u001b[0mcolor\u001b[0m\u001b[0;34m.\u001b[0m\u001b[0mrgb2ycbcr\u001b[0m\u001b[0;34m(\u001b[0m\u001b[0mimg\u001b[0m\u001b[0;34m)\u001b[0m\u001b[0;34m\u001b[0m\u001b[0m\n\u001b[0m\u001b[1;32m    566\u001b[0m             \u001b[0;32mfor\u001b[0m \u001b[0mi\u001b[0m \u001b[0;32min\u001b[0m \u001b[0mrange\u001b[0m\u001b[0;34m(\u001b[0m\u001b[0;36m3\u001b[0m\u001b[0;34m)\u001b[0m\u001b[0;34m:\u001b[0m\u001b[0;34m\u001b[0m\u001b[0m\n\u001b[1;32m    567\u001b[0m                 \u001b[0;31m# renormalizing this color channel to live in [0, 1]\u001b[0m\u001b[0;34m\u001b[0m\u001b[0;34m\u001b[0m\u001b[0m\n",
      "\u001b[0;32m~/anaconda3/lib/python3.6/site-packages/skimage/color/colorconv.py\u001b[0m in \u001b[0;36mrgb2ycbcr\u001b[0;34m(rgb)\u001b[0m\n\u001b[1;32m   1685\u001b[0m \u001b[0;34m\u001b[0m\u001b[0m\n\u001b[1;32m   1686\u001b[0m     \"\"\"\n\u001b[0;32m-> 1687\u001b[0;31m     \u001b[0marr\u001b[0m \u001b[0;34m=\u001b[0m \u001b[0m_convert\u001b[0m\u001b[0;34m(\u001b[0m\u001b[0mycbcr_from_rgb\u001b[0m\u001b[0;34m,\u001b[0m \u001b[0mrgb\u001b[0m\u001b[0;34m)\u001b[0m\u001b[0;34m\u001b[0m\u001b[0m\n\u001b[0m\u001b[1;32m   1688\u001b[0m     \u001b[0marr\u001b[0m\u001b[0;34m[\u001b[0m\u001b[0;34m...\u001b[0m\u001b[0;34m,\u001b[0m \u001b[0;36m0\u001b[0m\u001b[0;34m]\u001b[0m \u001b[0;34m+=\u001b[0m \u001b[0;36m16\u001b[0m\u001b[0;34m\u001b[0m\u001b[0m\n\u001b[1;32m   1689\u001b[0m     \u001b[0marr\u001b[0m\u001b[0;34m[\u001b[0m\u001b[0;34m...\u001b[0m\u001b[0;34m,\u001b[0m \u001b[0;36m1\u001b[0m\u001b[0;34m]\u001b[0m \u001b[0;34m+=\u001b[0m \u001b[0;36m128\u001b[0m\u001b[0;34m\u001b[0m\u001b[0m\n",
      "\u001b[0;32m~/anaconda3/lib/python3.6/site-packages/skimage/color/colorconv.py\u001b[0m in \u001b[0;36m_convert\u001b[0;34m(matrix, arr)\u001b[0m\n\u001b[1;32m    588\u001b[0m         \u001b[0mThe\u001b[0m \u001b[0mconverted\u001b[0m \u001b[0marray\u001b[0m\u001b[0;34m.\u001b[0m\u001b[0;34m\u001b[0m\u001b[0m\n\u001b[1;32m    589\u001b[0m     \"\"\"\n\u001b[0;32m--> 590\u001b[0;31m     \u001b[0marr\u001b[0m \u001b[0;34m=\u001b[0m \u001b[0m_prepare_colorarray\u001b[0m\u001b[0;34m(\u001b[0m\u001b[0marr\u001b[0m\u001b[0;34m)\u001b[0m\u001b[0;34m\u001b[0m\u001b[0m\n\u001b[0m\u001b[1;32m    591\u001b[0m \u001b[0;34m\u001b[0m\u001b[0m\n\u001b[1;32m    592\u001b[0m     \u001b[0;32mreturn\u001b[0m \u001b[0mnp\u001b[0m\u001b[0;34m.\u001b[0m\u001b[0mdot\u001b[0m\u001b[0;34m(\u001b[0m\u001b[0marr\u001b[0m\u001b[0;34m,\u001b[0m \u001b[0mmatrix\u001b[0m\u001b[0;34m.\u001b[0m\u001b[0mT\u001b[0m\u001b[0;34m.\u001b[0m\u001b[0mcopy\u001b[0m\u001b[0;34m(\u001b[0m\u001b[0;34m)\u001b[0m\u001b[0;34m)\u001b[0m\u001b[0;34m\u001b[0m\u001b[0m\n",
      "\u001b[0;32m~/anaconda3/lib/python3.6/site-packages/skimage/color/colorconv.py\u001b[0m in \u001b[0;36m_prepare_colorarray\u001b[0;34m(arr)\u001b[0m\n\u001b[1;32m    153\u001b[0m         msg = (\"the input array must be have a shape == (.., ..,[ ..,] 3)), \" +\n\u001b[1;32m    154\u001b[0m                \"got (\" + (\", \".join(map(str, arr.shape))) + \")\")\n\u001b[0;32m--> 155\u001b[0;31m         \u001b[0;32mraise\u001b[0m \u001b[0mValueError\u001b[0m\u001b[0;34m(\u001b[0m\u001b[0mmsg\u001b[0m\u001b[0;34m)\u001b[0m\u001b[0;34m\u001b[0m\u001b[0m\n\u001b[0m\u001b[1;32m    156\u001b[0m \u001b[0;34m\u001b[0m\u001b[0m\n\u001b[1;32m    157\u001b[0m     \u001b[0;32mreturn\u001b[0m \u001b[0mdtype\u001b[0m\u001b[0;34m.\u001b[0m\u001b[0mimg_as_float\u001b[0m\u001b[0;34m(\u001b[0m\u001b[0marr\u001b[0m\u001b[0;34m)\u001b[0m\u001b[0;34m\u001b[0m\u001b[0m\n",
      "\u001b[0;31mValueError\u001b[0m: the input array must be have a shape == (.., ..,[ ..,] 3)), got (2750, 16384)"
     ]
    }
   ],
   "source": [
    "print(np.array(X).shape)\n",
    "img_wav_filtered = denoise_wavelet(X, multichannel=True, convert2ycbcr=True,  mode='soft')"
   ]
  },
  {
   "cell_type": "markdown",
   "metadata": {},
   "source": [
    "### Wavelet"
   ]
  },
  {
   "cell_type": "code",
   "execution_count": null,
   "metadata": {},
   "outputs": [],
   "source": []
  },
  {
   "cell_type": "code",
   "execution_count": null,
   "metadata": {},
   "outputs": [],
   "source": [
    "'''\n",
    "import glob, os\n",
    "folder = 'data/train/Sony-NEX-7'\n",
    "for filename in glob.iglob(os.path.join(folder, '*.JPG')):\n",
    "    os.rename(filename, filename[:-4] + '.jpg')\n",
    "'''"
   ]
  },
  {
   "cell_type": "code",
   "execution_count": null,
   "metadata": {},
   "outputs": [],
   "source": [
    "def showCamaraPhotos(X, y=[], is_train =True, img_width=128, img_height=128, nb_channels = 1):\n",
    "\n",
    "    idx = random.randint(0,len(X))\n",
    "    if is_train:\n",
    "        plt.title(y[idx])\n",
    "    img = X[idx].reshape(img_width, img_height, nb_channels)\n",
    "    if nb_channels == 1:\n",
    "        plt.imshow(img, cmap='gray')\n",
    "    else:\n",
    "        plt.imshow(img)\n",
    "    plt.axis('off')\n",
    "    \n",
    "plt.figure(figsize=(20,5))\n",
    "for i in range(0, 3):\n",
    "    plt.subplot(1,3,i+1)\n",
    "    showCamaraPhotos(X, y, nb_channels=3)"
   ]
  },
  {
   "cell_type": "code",
   "execution_count": null,
   "metadata": {},
   "outputs": [],
   "source": []
  },
  {
   "cell_type": "code",
   "execution_count": null,
   "metadata": {},
   "outputs": [],
   "source": []
  }
 ],
 "metadata": {
  "kernelspec": {
   "display_name": "Python 3",
   "language": "python",
   "name": "python3"
  },
  "language_info": {
   "codemirror_mode": {
    "name": "ipython",
    "version": 3
   },
   "file_extension": ".py",
   "mimetype": "text/x-python",
   "name": "python",
   "nbconvert_exporter": "python",
   "pygments_lexer": "ipython3",
   "version": "3.6.4"
  }
 },
 "nbformat": 4,
 "nbformat_minor": 2
}
